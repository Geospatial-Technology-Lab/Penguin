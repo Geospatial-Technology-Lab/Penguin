{
 "cells": [
  {
   "cell_type": "markdown",
   "id": "e7ea8513",
   "metadata": {},
   "source": [
    "Numpy Theory"
   ]
  },
  {
   "cell_type": "markdown",
   "id": "8ce25ae2",
   "metadata": {},
   "source": [
    "- Là một thư viện Python được sử dụng để làm việc với mảng, có chức năng đểlàm việc trong miền đại số tuyến tính, biến đổi Fourier và ma trận.\n",
    "- Tốc độ nhanh hơn 50 lần so với danh sách Python truyền thống, bởi NumPy được lưu trữ tại một vị trí liên tục trong bộ nhớ, các tiến trình có thể truy cập và thao tác hiệu quả.\n",
    "- Đối tượng mảng trong NumPy được gọi là \\\"ndarray\\\", cung cấp nhiều hàm hỗ trợ tối đa tốc độ làm việc. Được sử dụng nhiều trong khoa học dữ liệu, nơi tốc độ và tài nguyên là những yếu tố rất quan trọng.\n",
    "- Mã nguồn cho NumPy nằm tại kho lưu trữ github này https://github.com/numpy/numpy"
   ]
  },
  {
   "cell_type": "code",
   "execution_count": null,
   "id": "e0a34ea9",
   "metadata": {},
   "outputs": [
    {
     "ename": "SyntaxError",
     "evalue": "invalid syntax (316075022.py, line 1)",
     "output_type": "error",
     "traceback": [
      "\u001b[1;36m  Cell \u001b[1;32mIn[1], line 1\u001b[1;36m\u001b[0m\n\u001b[1;33m    inport numpy as np\u001b[0m\n\u001b[1;37m           ^\u001b[0m\n\u001b[1;31mSyntaxError\u001b[0m\u001b[1;31m:\u001b[0m invalid syntax\n"
     ]
    }
   ],
   "source": [
    "import numpy as np\n",
    "arr = np.array([1, 2, 3, 4, 5])\n",
    "print(arr)\n",
    "print(type(arr))"
   ]
  },
  {
   "cell_type": "markdown",
   "id": "42284fa5",
   "metadata": {},
   "source": []
  }
 ],
 "metadata": {
  "kernelspec": {
   "display_name": "base",
   "language": "python",
   "name": "python3"
  },
  "language_info": {
   "codemirror_mode": {
    "name": "ipython",
    "version": 3
   },
   "file_extension": ".py",
   "mimetype": "text/x-python",
   "name": "python",
   "nbconvert_exporter": "python",
   "pygments_lexer": "ipython3",
   "version": "3.12.7"
  }
 },
 "nbformat": 4,
 "nbformat_minor": 5
}
