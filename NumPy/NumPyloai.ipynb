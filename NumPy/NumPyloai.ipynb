{
 "cells": [
  {
   "cell_type": "markdown",
   "id": "7dfe6e70",
   "metadata": {},
   "source": [
    "NumPy Theory"
   ]
  },
  {
   "cell_type": "markdown",
   "id": "10a7e3c8",
   "metadata": {},
   "source": [
    "- Là một thư viện Python được sử dụng để làm việc với mảng, có chức năng đểlàm việc trong miền đại số tuyến tính, biến đổi \n",
    "Fourier và ma trận.\n",
    "- Tốc độ nhanh hơn 50 lần so với danh sách Python truyền thống, bởi NumPy được lưu trữ tại một vị trí liên tục trong bộ nhớ,\n",
    "các tiến trình có thể truy cập và thao tác hiệu quả.\n",
    "- Đối tượng mảng trong NumPy được gọi là \"ndarray\", cung cấp nhiều hàm hỗ trợ tối đa tốc độ làm việc. Được sử dụng nhiều \n",
    "trong khoa học dữ liệu, nơi tốc độ và tài nguyên là những yếu tố rất quan trọng.\n",
    "- Mã nguồn cho NumPy nằm tại kho lưu trữ github này https://github.com/numpy/numpy"
   ]
  },
  {
   "cell_type": "markdown",
   "id": "1f5d4d04",
   "metadata": {},
   "source": [
    "Numpy Creating Arrays"
   ]
  },
  {
   "cell_type": "code",
   "execution_count": null,
   "id": "ad0393a3",
   "metadata": {},
   "outputs": [],
   "source": [
    "import numpy as np\n",
    "arr = np.array([1, 2, 3, 4, 5]) \n",
    "print(arr)\n",
    "print(type(arr))"
   ]
  },
  {
   "cell_type": "markdown",
   "id": "d562801f",
   "metadata": {},
   "source": [
    "- Ta có thể tạo Numpy array bằng cách sử dụng hàm `np.array()`, truyền vào một danh sách hoặc tuple.\n",
   ]
  }
 ],
 "metadata": {
  "kernelspec": {
   "display_name": "base",
   "language": "python",
   "name": "python3"
  },
  "language_info": {
   "codemirror_mode": {
    "name": "ipython",
    "version": 3
   },
   "file_extension": ".py",
   "mimetype": "text/x-python",
   "name": "python",
   "nbconvert_exporter": "python",
   "pygments_lexer": "ipython3",
   "version": "3.12.7"
  }
 },
 "nbformat": 4,
 "nbformat_minor": 5
}
