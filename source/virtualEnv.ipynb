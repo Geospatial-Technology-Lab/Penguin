{
 "cells": [
  {
   "cell_type": "markdown",
   "id": "47fc03c2",
   "metadata": {},
   "source": [
    "Python VitualEnv"
   ]
  },
  {
   "cell_type": "code",
   "execution_count": null,
   "id": "dff5be24",
   "metadata": {},
   "outputs": [
    {
     "ename": "ModuleNotFoundError",
     "evalue": "No module named 'cowsay'",
     "output_type": "error",
     "traceback": [
      "\u001b[1;31m---------------------------------------------------------------------------\u001b[0m",
      "\u001b[1;31mModuleNotFoundError\u001b[0m                       Traceback (most recent call last)",
      "Cell \u001b[1;32mIn[1], line 1\u001b[0m\n\u001b[1;32m----> 1\u001b[0m \u001b[38;5;28;01mimport\u001b[39;00m \u001b[38;5;21;01mcowsay\u001b[39;00m\n\u001b[0;32m      3\u001b[0m cowsay\u001b[38;5;241m.\u001b[39mcow(\u001b[38;5;124m\"\u001b[39m\u001b[38;5;124mGood Mooooorning!\u001b[39m\u001b[38;5;124m\"\u001b[39m)\n",
      "\u001b[1;31mModuleNotFoundError\u001b[0m: No module named 'cowsay'"
     ]
    }
   ],
   "source": [
    "import cowsay\n",
    "\n",
    "cowsay.cow(\"Good Mooooorning!\")"
   ]
  },
  {
   "cell_type": "markdown",
   "id": "34923745",
   "metadata": {},
   "source": [
    "the code can't run because the module \"cowsay\" is not installed. But if this module (in this case) is only used for one case, then don't want to install it to the drive. So use the option to install into a virtual environment. "
   ]
  },
  {
   "cell_type": "markdown",
   "id": "75457e03",
   "metadata": {},
   "source": [
    "- A virtual environment in Python is an isolated environmenton your computer, can run and test your Python project.\n",
    "- It allows managing project-specific dependencies without affecting other projects or the original Python installation."
   ]
  },
  {
   "cell_type": "markdown",
   "id": "17cb3c4b",
   "metadata": {},
   "source": [
    "Each virtual region contains\n",
    "- Own Python interpreter\n",
    "- Own set of installed packages\n",
    "- Is isolated from other virtual environments\n",
    "- Can have different versions of the same package"
   ]
  },
  {
   "cell_type": "markdown",
   "id": "8b2c67cb",
   "metadata": {},
   "source": [
    "Import\n",
    "- It prevents package version conflicts between projects\n",
    "- Makes projects more portable and reproducible\n",
    "- Keeps your system Python installation clean\n",
    "- Allows testing with different Python versions"
   ]
  },
  {
   "cell_type": "markdown",
   "id": "6a116659",
   "metadata": {},
   "source": [
    "venv: creating virtual environments\n",
    "activate: activate the virtual environment\n",
    "deactivate: deactivate the virtual environment\n",
    "rmdir: delete virtual environment"
   ]
  },
  {
   "cell_type": "code",
   "execution_count": null,
   "id": "25b29d46",
   "metadata": {},
   "outputs": [],
   "source": [
    "import cowsay\n",
    "\n",
    "cowsay.cow(\"Good Mooooorning!\")"
   ]
  }
 ],
 "metadata": {
  "kernelspec": {
   "display_name": "base",
   "language": "python",
   "name": "python3"
  },
  "language_info": {
   "codemirror_mode": {
    "name": "ipython",
    "version": 3
   },
   "file_extension": ".py",
   "mimetype": "text/x-python",
   "name": "python",
   "nbconvert_exporter": "python",
   "pygments_lexer": "ipython3",
   "version": "3.12.7"
  }
 },
 "nbformat": 4,
 "nbformat_minor": 5
}
